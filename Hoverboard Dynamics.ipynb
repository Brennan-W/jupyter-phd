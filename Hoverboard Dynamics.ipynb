{
 "cells": [
  {
   "cell_type": "markdown",
   "metadata": {},
   "source": [
    "<h1 style=\"text-align: center;\"> AEM 562 Project<a class=\"tocSkip\"></h1> "
   ]
  },
  {
   "cell_type": "markdown",
   "metadata": {},
   "source": [
    "<center> <h2> Dynamic Modeling of an Inverted Pendulum Self-Transportation System<a class=\"tocSkip\"> </h2> \n",
    "\n",
    "<br>\n",
    "<br>\n",
    "<br>\n",
    "<br>\n",
    "<br>\n",
    "<br>\n",
    "<br>\n",
    "<br>\n",
    "<br>\n",
    "<br>\n",
    "<br>"
   ]
  },
  {
   "cell_type": "markdown",
   "metadata": {},
   "source": [
    "<center> <h3>Brennan White <a class=\"tocSkip\">"
   ]
  },
  {
   "cell_type": "markdown",
   "metadata": {},
   "source": [
    "<center> <h3>December 14, 2018 <a class=\"tocSkip\">"
   ]
  },
  {
   "cell_type": "markdown",
   "metadata": {},
   "source": [
    "<center> <h3>AEM 562 Intermediate Dynamics<a class=\"tocSkip\">"
   ]
  },
  {
   "cell_type": "markdown",
   "metadata": {},
   "source": [
    "<center> <h3>Dr. Nadir Jalili <a class=\"tocSkip\"></h3>\n",
    "\n",
    "<br>\n",
    "<br>\n",
    "<br>\n",
    "<br>\n",
    "<br>\n",
    "<br>\n",
    "<br>\n",
    "<br>\n",
    "<br>\n",
    "<br>\n",
    "<br>\n"
   ]
  },
  {
   "cell_type": "markdown",
   "metadata": {},
   "source": [
    "***\n",
    "<break>"
   ]
  },
  {
   "cell_type": "markdown",
   "metadata": {
    "toc": true
   },
   "source": [
    "<h1>Table of Contents<span class=\"tocSkip\"></span></h1>\n",
    "<div class=\"toc\"><ul class=\"toc-item\"><li><span><a href=\"#Abstract\" data-toc-modified-id=\"Abstract-1\"><span class=\"toc-item-num\">1&nbsp;&nbsp;</span>Abstract</a></span></li><li><span><a href=\"#Introduction\" data-toc-modified-id=\"Introduction-2\"><span class=\"toc-item-num\">2&nbsp;&nbsp;</span>Introduction</a></span><ul class=\"toc-item\"><li><span><a href=\"#Literature-Review\" data-toc-modified-id=\"Literature-Review-2.1\"><span class=\"toc-item-num\">2.1&nbsp;&nbsp;</span>Literature Review</a></span></li></ul></li><li><span><a href=\"#Theory\" data-toc-modified-id=\"Theory-3\"><span class=\"toc-item-num\">3&nbsp;&nbsp;</span>Theory</a></span><ul class=\"toc-item\"><li><span><a href=\"#Inverted-Pendulums\" data-toc-modified-id=\"Inverted-Pendulums-3.1\"><span class=\"toc-item-num\">3.1&nbsp;&nbsp;</span>Inverted Pendulums</a></span></li><li><span><a href=\"#Configuration-1\" data-toc-modified-id=\"Configuration-1-3.2\"><span class=\"toc-item-num\">3.2&nbsp;&nbsp;</span>Configuration 1</a></span><ul class=\"toc-item\"><li><span><a href=\"#Position\" data-toc-modified-id=\"Position-3.2.1\"><span class=\"toc-item-num\">3.2.1&nbsp;&nbsp;</span>Position</a></span></li><li><span><a href=\"#Velocity\" data-toc-modified-id=\"Velocity-3.2.2\"><span class=\"toc-item-num\">3.2.2&nbsp;&nbsp;</span>Velocity</a></span></li><li><span><a href=\"#Kinetic-Energy\" data-toc-modified-id=\"Kinetic-Energy-3.2.3\"><span class=\"toc-item-num\">3.2.3&nbsp;&nbsp;</span>Kinetic Energy</a></span><ul class=\"toc-item\"><li><span><a href=\"#Kinetic-Engergy-of-the-Mass\" data-toc-modified-id=\"Kinetic-Engergy-of-the-Mass-3.2.3.1\"><span class=\"toc-item-num\">3.2.3.1&nbsp;&nbsp;</span>Kinetic Engergy of the Mass</a></span></li><li><span><a href=\"#Kinetic-Energy-of-The-Wheel\" data-toc-modified-id=\"Kinetic-Energy-of-The-Wheel-3.2.3.2\"><span class=\"toc-item-num\">3.2.3.2&nbsp;&nbsp;</span>Kinetic Energy of The Wheel</a></span></li><li><span><a href=\"#System-Kinetic-Energy\" data-toc-modified-id=\"System-Kinetic-Energy-3.2.3.3\"><span class=\"toc-item-num\">3.2.3.3&nbsp;&nbsp;</span>System Kinetic Energy</a></span></li></ul></li><li><span><a href=\"#Potential-Energy\" data-toc-modified-id=\"Potential-Energy-3.2.4\"><span class=\"toc-item-num\">3.2.4&nbsp;&nbsp;</span>Potential Energy</a></span></li><li><span><a href=\"#Euler-Lagrange-Method\" data-toc-modified-id=\"Euler-Lagrange-Method-3.2.5\"><span class=\"toc-item-num\">3.2.5&nbsp;&nbsp;</span>Euler-Lagrange Method</a></span></li></ul></li></ul></li><li><span><a href=\"#Results\" data-toc-modified-id=\"Results-4\"><span class=\"toc-item-num\">4&nbsp;&nbsp;</span>Results</a></span><ul class=\"toc-item\"><li><span><a href=\"#Configuration-1\" data-toc-modified-id=\"Configuration-1-4.1\"><span class=\"toc-item-num\">4.1&nbsp;&nbsp;</span>Configuration 1</a></span><ul class=\"toc-item\"><li><span><a href=\"#Linearization\" data-toc-modified-id=\"Linearization-4.1.1\"><span class=\"toc-item-num\">4.1.1&nbsp;&nbsp;</span>Linearization</a></span></li><li><span><a href=\"#State-Space-Representation\" data-toc-modified-id=\"State-Space-Representation-4.1.2\"><span class=\"toc-item-num\">4.1.2&nbsp;&nbsp;</span>State Space Representation</a></span><ul class=\"toc-item\"><li><span><a href=\"#Given-Constants\" data-toc-modified-id=\"Given-Constants-4.1.2.1\"><span class=\"toc-item-num\">4.1.2.1&nbsp;&nbsp;</span>Given Constants</a></span></li></ul></li><li><span><a href=\"#Combined-Equations-of-Motion\" data-toc-modified-id=\"Combined-Equations-of-Motion-4.1.3\"><span class=\"toc-item-num\">4.1.3&nbsp;&nbsp;</span>Combined Equations of Motion</a></span></li><li><span><a href=\"#Setup-Python-for-State-Space-Plotting\" data-toc-modified-id=\"Setup-Python-for-State-Space-Plotting-4.1.4\"><span class=\"toc-item-num\">4.1.4&nbsp;&nbsp;</span>Setup Python for State Space Plotting</a></span></li><li><span><a href=\"#Build-Expressions-to-Develop-State-Space-Matrices\" data-toc-modified-id=\"Build-Expressions-to-Develop-State-Space-Matrices-4.1.5\"><span class=\"toc-item-num\">4.1.5&nbsp;&nbsp;</span>Build Expressions to Develop State-Space Matrices</a></span><ul class=\"toc-item\"><li><span><a href=\"#Preventing-the-Response-from-Going-Through-the-Ground\" data-toc-modified-id=\"Preventing-the-Response-from-Going-Through-the-Ground-4.1.5.1\"><span class=\"toc-item-num\">4.1.5.1&nbsp;&nbsp;</span>Preventing the Response from Going Through the Ground</a></span></li></ul></li><li><span><a href=\"#Python-Output---Configuration-1\" data-toc-modified-id=\"Python-Output---Configuration-1-4.1.6\"><span class=\"toc-item-num\">4.1.6&nbsp;&nbsp;</span>Python Output - Configuration 1</a></span></li><li><span><a href=\"#Discussion-of-Results-for-Configuration-#1\" data-toc-modified-id=\"Discussion-of-Results-for-Configuration-#1-4.1.7\"><span class=\"toc-item-num\">4.1.7&nbsp;&nbsp;</span>Discussion of Results for Configuration #1</a></span></li></ul></li><li><span><a href=\"#Configuration-#2\" data-toc-modified-id=\"Configuration-#2-4.2\"><span class=\"toc-item-num\">4.2&nbsp;&nbsp;</span>Configuration #2</a></span><ul class=\"toc-item\"><li><span><a href=\"#Poistions-in-3D\" data-toc-modified-id=\"Poistions-in-3D-4.2.1\"><span class=\"toc-item-num\">4.2.1&nbsp;&nbsp;</span>Poistions in 3D</a></span></li><li><span><a href=\"#Velocities\" data-toc-modified-id=\"Velocities-4.2.2\"><span class=\"toc-item-num\">4.2.2&nbsp;&nbsp;</span>Velocities</a></span></li><li><span><a href=\"#Kinetic-Energy\" data-toc-modified-id=\"Kinetic-Energy-4.2.3\"><span class=\"toc-item-num\">4.2.3&nbsp;&nbsp;</span>Kinetic Energy</a></span></li><li><span><a href=\"#Potential-Energy\" data-toc-modified-id=\"Potential-Energy-4.2.4\"><span class=\"toc-item-num\">4.2.4&nbsp;&nbsp;</span>Potential Energy</a></span></li><li><span><a href=\"#Lagrange-Equation\" data-toc-modified-id=\"Lagrange-Equation-4.2.5\"><span class=\"toc-item-num\">4.2.5&nbsp;&nbsp;</span>Lagrange Equation</a></span></li><li><span><a href=\"#Linearize-EOM\" data-toc-modified-id=\"Linearize-EOM-4.2.6\"><span class=\"toc-item-num\">4.2.6&nbsp;&nbsp;</span>Linearize EOM</a></span></li><li><span><a href=\"#State-Space-Representation\" data-toc-modified-id=\"State-Space-Representation-4.2.7\"><span class=\"toc-item-num\">4.2.7&nbsp;&nbsp;</span>State Space Representation</a></span></li><li><span><a href=\"#Python-Output---Configuration-2\" data-toc-modified-id=\"Python-Output---Configuration-2-4.2.8\"><span class=\"toc-item-num\">4.2.8&nbsp;&nbsp;</span>Python Output - Configuration 2</a></span></li><li><span><a href=\"#Discussion-of-Output-for-Configuration-#2\" data-toc-modified-id=\"Discussion-of-Output-for-Configuration-#2-4.2.9\"><span class=\"toc-item-num\">4.2.9&nbsp;&nbsp;</span>Discussion of Output for Configuration #2</a></span></li></ul></li></ul></li></ul></div>"
   ]
  },
  {
   "cell_type": "markdown",
   "metadata": {},
   "source": [
    "## Abstract\n",
    "Electronic personal transportation devices, such as hover boards, offer more potential than simple convenience if the equations of motion can be developed and applied further. The board is considered in two configurations: #1 where it is a simple inverted pendulum and #2 where system is two inverted pendulums connected by the board. Using the kinetic and potential energy equations, along with the external forces, a Lagrange equation is developed. The extended Hamilton's principle is then applied to the Lagrangian. Whereby derivatives of the Lagrangian with respect to the time derivative of each variable and again with respect to time and the derivative of the Lagrangian with respect to the variable itself are equal to the external forces. This develops the equations of motion that can then be converted to a state-space representation of the system, after linearizing using the small angle theorem. This system can then be simulated for various inputs to predict the response of the system for each variable for a given input. \n",
    "\n",
    "The methods presented here in are valid with respect to theory, though faulty in the actual output of the generated state space system. The content related to the generation of equations of motion are sound according to the material presented in the context of the course. Sufficient it to say that the dynamics of a hover board are exceedingly complex the more one attempts to replicate the physical system. The expansion of the system into configuration #2 results in a non-linear state space equation when following the methodology applied in configuration #1. Regretfully, this paper does not achieve all desired objectives and thus makes it difficult to present content related to the outcomes of the system simulation.\n",
    "***"
   ]
  },
  {
   "cell_type": "markdown",
   "metadata": {
    "variables": {
     "K_g}{K_t": "<p><strong>SyntaxError</strong>: invalid syntax (<ipython-input-1-318861d91a7e>, line 1)</p>\n",
     "K_m}{K_g}{\\dot{x}_c}(t)}{r_g} = {V_{in": "<p><strong>SyntaxError</strong>: invalid syntax (<ipython-input-1-1878931baab0>, line 1)</p>\n",
     "r_g": "<p><strong>NameError</strong>: name &#39;r_g&#39; is not defined</p>\n"
    }
   },
   "source": [
    "## Introduction\n",
    "Recent developments in technology and materials have made compact electric personal transportation systems more prolific. The focus of these systems has been to provide increased mobility to already mobile people, without the footprint or other negatives of cars or even motor cycles. The un-realized potential of these small electric self-transportation systems lies in the mobility that could be provided to those with impaired mobility. In order to do this, the underlying dynamic system of these devices needs to be further understood.\n",
    "\n",
    "This report was created using Jupyter Notebooks so that the python code used to generate the values presented can be imbeded directly in the report. The symbolic manipulations are done using `sympy`. Results of `sympy` are presented as markdown in latex.\n",
    "\n",
    "To utilize `sympy`, import and establish symbols, differentiating between those that are function and those that are not."
   ]
  },
  {
   "cell_type": "code",
   "execution_count": 1,
   "metadata": {},
   "outputs": [],
   "source": [
    "from sympy import *\n",
    "import math\n",
    "import sympy as sp\n",
    "from sympy.physics.vector import vlatex, ReferenceFrame, dynamicsymbols\n",
    "import numpy as np\n",
    "init_printing(use_unicode=False, wrap_line=False, no_global=True, use_latex='mathjax')"
   ]
  },
  {
   "cell_type": "markdown",
   "metadata": {},
   "source": [
    "Using `symbols` from `sympy` establishes a given python variable as a symbol. This symbols can be classed as `Function` which will later require that use of said function be have a variable included for symbolic operations."
   ]
  },
  {
   "cell_type": "code",
   "execution_count": 2,
   "metadata": {},
   "outputs": [],
   "source": [
    "alpha, alphaA, alphaB = symbols('alpha alpha_A alpha_B', cls=Function)\n",
    "theta, thetaA, thetaB = symbols('theta theta_A theta_B', cls=Function)\n",
    "gamma, gammaA, gammaB = symbols('gamma gamma_A gamma_B', cls=Function)\n",
    "xc, yc, F, i, Vin, psi, P = symbols('x_c y_c F i Vin psi P', cls=Function)\n",
    "M, mW, mA, mB, Lp, G = symbols(\"M m_W m_A m_B L_p G\")\n",
    "J, xM,  yM, rg, c, t = symbols('J x_M y_m r_g c t')\n",
    "g, P, E, I, Kg, Kt, Km  = symbols('g P E I K_g K_t K_m')\n",
    "R, d, C_1 =  symbols('R d C_1')"
   ]
  },
  {
   "cell_type": "markdown",
   "metadata": {},
   "source": [
    "To increase the efficiency of writing in latex, a python method was utilized to rapidly generate lines of latex code. The output cells of this function have been removed for report submission, but the code is presented for reference."
   ]
  },
  {
   "cell_type": "code",
   "execution_count": 3,
   "metadata": {},
   "outputs": [],
   "source": [
    "def print_latex(terms):\n",
    "    i = 1\n",
    "    for term in terms:\n",
    "        try:\n",
    "            expr = term.siplify()\n",
    "        except:\n",
    "            expr = term\n",
    "        print('$${}: {}$$'.format(i,vlatex(expr)))\n",
    "        print('***')\n",
    "        i += 1"
   ]
  },
  {
   "cell_type": "markdown",
   "metadata": {},
   "source": [
    "### Literature Review\n",
    "The problem presented in this project is a simplified version of the one considered some of Dr. Jalili's students in <bold>Modeling and Dynamics Analysis of a Beam-Hoverboard Self-Transportation System</bold> presented at the ASME Dynamic Systems and Control Conference of 2018. The aforementioned paper focuses on the implications of a flexible beam being attached to the hover board. This project, however, considers the pendulum arm to be a rigid body for all cases. Beyond the notes presented during the duration of the course, Engineering Dynamics by Jerry Ginsberg was also used as a reference source for this project.\n",
    "***"
   ]
  },
  {
   "cell_type": "markdown",
   "metadata": {},
   "source": [
    "## Theory\n",
    "The derivation of equations of motion is based on  Hamilton's principle. Hamilton's principle is ideologically similar to Lagrange's equations, but the position of a given particle in the system need not be referenced in general coordinates. The focus of Hamilton's principle is the application of the principle of dynamic work.\n",
    "\n",
    "This principle applies variational calculus to the energy equations for a given system to determine the equations of motion. The integral of the sum of variations of both the Lagrangian and work from non-conservative over the period of $t_1$ to $t_2$ is equal to $0$. This is based on the fundemental theorem of variational calculus which states that if the integral of functions of some variable $\\zeta$ with respect to $\\zeta$ equals zero, then the integrant must also be zero. When $\\delta$ is operating on one of those functions, the $\\delta$ can never be zero and thus the other function must equal zero.\n",
    "\n",
    "\\begin{equation}\n",
    "\\int_{t_1}^{t_2} \\left( \\delta L + \\delta W^{nc}\\right)\\, dt =0\n",
    "\\end{equation}"
   ]
  },
  {
   "cell_type": "markdown",
   "metadata": {
    "variables": {
     "K_g}{K_t": "<p><strong>SyntaxError</strong>: invalid syntax (<ipython-input-1-318861d91a7e>, line 1)</p>\n",
     "K_m}{K_g}{\\dot{x}_c}(t)}{r_g} = {V_{in": "<p><strong>SyntaxError</strong>: invalid syntax (<ipython-input-1-1878931baab0>, line 1)</p>\n",
     "r_g": "<p><strong>NameError</strong>: name &#39;r_g&#39; is not defined</p>\n"
    }
   },
   "source": [
    "The pendlum is free to rotate about the base by $\\alpha$ to the auxillary axis $z$ (normal to the base), with the angle $\\theta$ between the pendulum arm and auxillary axis defined as \n",
    "\\begin{equation}\\theta(t) = \\frac{P{L_p}^2}{2EI}\\end{equation}\n",
    "\n",
    "\n",
    "### Inverted Pendulums\n",
    "The position ${x_c}(t)$ can be directly related the radius ${r_g}(t)$ and the angular position of the wheel $\\beta$ such that \n",
    "\n",
    "\\begin{equation}{x_c}(t) = {r_g}\\beta(t) \\end{equation}\n",
    "\n",
    "because the wheel is assumed to have no slippage and therefore is represented as a pure rolling contact. The force $F_t$ i s alinear force generated by the motor output and is\n",
    "\n",
    "\\begin{equation}F(t) = \\frac{{K_g}{K_t}}{{r_g}}i(t)\\end{equation}\n",
    "\n",
    "where constants $K_t$ and $K_g$ are motor properties and are given as constants. $F_t$ depends on the current flowing through the motor circuit $i_t$, which (assuming motor inductance is small) can be related to ${V_in}(t)$ by \n",
    "\n",
    "\\begin{equation}Ri(t)+\\frac{{K_m}{K_g}{\\dot{x}_c}(t)}{r_g} = {V_{in}}(t)\\end{equation}\n",
    "\n",
    "and $K_m$ is also given as a constant."
   ]
  },
  {
   "cell_type": "markdown",
   "metadata": {
    "variables": {
     "{L_p}\\^2}{M}g{sin({\\alpha(t)})": "<p><strong>SyntaxError</strong>: unexpected character after line continuation character (<ipython-input-1-392f0849189a>, line 1)</p>\n"
    }
   },
   "source": [
    "As defined in $Eq. 1$, the angle of $\\theta$ is dependent upon the angle $\\alpha$ between the primary $Z$ axis and auxiliary $z$ axis, $\\alpha$. The load generated on the pendulum is the force of gravity due to the mass $M$ at a given angle of $\\alpha$\n",
    "\n",
    "\\begin{equation}P(t) = {M}g{cos({\\alpha(t)})}\\end{equation}\n",
    "\n",
    "This load can then be used in $Eq. 1$ that describes the angle of deflection $\\theta$ for a given load and beam modulus of rigidity $G$ and polar moment of inertia $J$. \n",
    "\n",
    "\\begin{equation}{\\theta}(t) = \\frac{{P(t){L_p}^2}}{2GJ} = \\frac{{M}{g}{sin({\\alpha(t)})}{{L_p}^2}}{2GJ}\\end{equation}"
   ]
  },
  {
   "cell_type": "markdown",
   "metadata": {
    "variables": {
     "{L_p}\\^2}{M}g{sin({\\alpha(t)})": "<p><strong>SyntaxError</strong>: unexpected character after line continuation character (<ipython-input-1-392f0849189a>, line 1)</p>\n"
    }
   },
   "source": [
    "### Configuration 1\n",
    "#### Position\n",
    "The position of mass $M$ is then defined by the summation of  $\\alpha$ and $\\theta$. This total angle $\\gamma$ is defined as \n",
    "\n",
    "\\begin{equation}{\\gamma(t)} = {\\alpha(t)}+{\\theta(t)}\\end{equation}\n",
    "\n",
    "The angle $\\gamma$ is used to determine the $x$ and $y$ positions of $M$. \n",
    "\n",
    "\\begin{equation}\n",
    "{x_M} = {x_c}(t)+{L_p}{sin(\\gamma)}\\ \\ \\ \\ and\\ \\ \\ \\   {y_M} = {r_g} + {L_p}{cos(\\gamma)}\n",
    "\\end{equation}\n",
    "\n",
    "\n",
    "For the initial condition, $\\theta$ is assumed to be $0$ making the initial positions only a function of the angle $\\alpha$. ${x_c}(t)$ is also assume to be $0$ at $t = 0$.\n",
    "\n",
    "\\begin{equation}\n",
    "{x_{M0}} = {L_p}{sin(\\alpha)}\\ \\ \\ \\ and\\ \\ \\ \\   {y_{M0}} = {r_g} +{L_p}{cos(\\gamma)}\n",
    "\\end{equation}"
   ]
  },
  {
   "cell_type": "markdown",
   "metadata": {},
   "source": [
    " "
   ]
  },
  {
   "cell_type": "code",
   "execution_count": 4,
   "metadata": {},
   "outputs": [],
   "source": [
    "xM = xc(t)+Lp*sin(gamma(t))\n",
    "yM = rg+Lp*cos(gamma(t))"
   ]
  },
  {
   "cell_type": "markdown",
   "metadata": {},
   "source": [
    "#### Velocity\n",
    "\n",
    "The velocity of $M$, $V_M$, is the time derivative of both the $x$ and $y$ position vectors, $\\frac{d}{dt}{x_M}(t)$ and $\\frac{d}{dt}{y_M}(t)$. Both of which, as indicated, are funtions of time. The time derivative of a function of time is represented by $\\dot{}$ further in this paper. It is also worth noting that some functions of time may not be explicitly denoted as such if it as mentioned previously. This is to make the formulas presented more legible to the reader. "
   ]
  },
  {
   "cell_type": "markdown",
   "metadata": {},
   "source": [
    "\\begin{equation}\n",
    "\\frac{d}{dt}{x_M}(t) = \\frac{d}{dt} \\left({x_c}(t)+{L_p}{sin(\\gamma)} \\right) \n",
    "= \\dot{x_c}+{L_p}\\dot{\\gamma}cos(\\gamma(t))\n",
    "\\end{equation}\n",
    "\n",
    "\\begin{equation}\n",
    "\\frac{d}{dt}{y_M}(t) = \\frac{d}{dt} \\left({r_g} + {L_p}{cos(\\gamma(t))} \\right) =-{L_p}\\dot{\\gamma}sin(\\gamma(t))\n",
    "\\end{equation}"
   ]
  },
  {
   "cell_type": "code",
   "execution_count": 5,
   "metadata": {},
   "outputs": [],
   "source": [
    "dxM = diff(xM,t)\n",
    "dyM = diff(yM,t)\n",
    "Vm = sqrt(dxM**2 + dyM**2)"
   ]
  },
  {
   "cell_type": "markdown",
   "metadata": {},
   "source": [
    "#### Kinetic Energy\n",
    "The kinetic energy $T$ is a function of the mass and the square of the velocity.\n",
    "\\begin{equation}\n",
    "T = \\frac{1}{2}mV^2 + I\\omega\n",
    "\\end{equation}\n",
    "\n",
    "##### Kinetic Engergy of the Mass\n",
    "For $M$ the velocity is made up of the $x$ and $y$ components, each of which is presented as a time derivative of the position vector. The square of the velocity of the mass, $V_M$, after simplification and collecting terms:\n",
    "\n",
    "\\begin{equation}\n",
    "{V_m}^2 = L_{p}^{2} \\left(\\frac{d}{d t} \\gamma{\\left (t \\right )}\\right)^{2} + 2 L_{p} \\cos{\\left (\\gamma{\\left (t \\right )} \\right )} \\frac{d}{d t} \\gamma{\\left (t \\right )} \\frac{d}{d t} \\operatorname{x_{c}}{\\left (t \\right )} + \\left(\\frac{d}{d t} \\operatorname{x_{c}}{\\left (t \\right )}\\right)^{2}\n",
    "\\end{equation}"
   ]
  },
  {
   "cell_type": "markdown",
   "metadata": {},
   "source": [
    "The total kinetic energy for the mass is then\n",
    "\\begin{equation}\n",
    "{KE_M} = \\frac{1}{2}M{V_m}^2 \n",
    "\\end{equation}\n",
    "$$\n",
    "= \\frac{1}{2}M \\left (L_{p}^{2} \\left(\\frac{d}{d t} \\gamma{\\left (t \\right )}\\right)^{2} + 2 L_{p} \\cos{\\left (\\gamma{\\left (t \\right )} \\right )} \\frac{d}{d t} \\gamma{\\left (t \\right )} \\frac{d}{d t} \\operatorname{x_{c}}{\\left (t \\right )} + \\left(\\frac{d}{d t} \\operatorname{x_{c}}{\\left (t \\right )}\\right)^{2} \\right )\n",
    "$$\n",
    "\n",
    "##### Kinetic Energy of The Wheel\n",
    "The wheel's kinetic energy is composed of rotational and kinetic energy. The angular velocity for the wheel is $\\dot\\beta$ and the mass moment of inertia is $\\frac{1}{2}{m_w}{r_g}$. The velocity of the wheel for translational kinetic energy is simply $\\dot{x_c}$. This gives the total kinetic energy of the wheel as\n",
    "\n",
    "\\begin{equation}\n",
    "{KE_w} = \\frac{1}{4}{m_w}{r_g}^2\\ {\\dot\\beta}^2 + \\frac{1}{2}{m_w}\\dot{x_c}^2 =\n",
    "\\frac{3}{4}{m_w}\\dot{x_c}^2\n",
    "\\end{equation}\n",
    "\n",
    "##### System Kinetic Energy\n",
    "\n",
    "\\begin{equation}\n",
    "{KE} = \n",
    "0.5 M \\left(L_{p}^{2} \\operatorname{sin}^{2}\\left(\\gamma\\right) \\dot{\\gamma}^{2} + \\left(L_{p} \\operatorname{cos}\\left(\\gamma\\right) \\dot{\\gamma} + \\dot{x}_{c}\\right)^{2}\\right) + 0.75 m_{W} \\dot{x}_{c}^{2}\n",
    "\\end{equation}"
   ]
  },
  {
   "cell_type": "code",
   "execution_count": 6,
   "metadata": {},
   "outputs": [],
   "source": [
    "KE = 1/2*(M)*(Vm**2)+3/4*mW*diff(xc(t),t)**2"
   ]
  },
  {
   "cell_type": "markdown",
   "metadata": {},
   "source": [
    "#### Potential Energy\n",
    "Only the mass has potential energy as the $y$ coordinate of the wheel does not change. This potential energy is based on $y_M$ as defined in the position section. \n",
    "\\begin{equation}\n",
    "{PE_M} = \\left({r_g} + {L_p}{cos(\\gamma)}\\right)Mg\n",
    "\\end{equation}\n",
    "***"
   ]
  },
  {
   "cell_type": "code",
   "execution_count": 7,
   "metadata": {},
   "outputs": [],
   "source": [
    "PE = M*g*yM"
   ]
  },
  {
   "cell_type": "markdown",
   "metadata": {},
   "source": [
    "#### Euler-Lagrange Method\n",
    "The Euler-Lagrange method relates kinetic and potential energy while accounting for the dependence of kinmatical variables on the generalized coordinates. The Lagrangian, $L$, is the total kinetic energy less the total potential energy which is\n",
    "\n",
    "\\begin{equation}\n",
    "{L} = PE - KE\n",
    "\\end{equation}\n",
    "\n",
    "$ L = \\frac{1}{2} L_{p}^{2} M \\dot{\\gamma}^{2} - L_{p} M g \\operatorname{cos}\\left(\\gamma\\right) + L_{p} M \\operatorname{cos}\\left(\\gamma\\right) \\dot{\\gamma} \\dot{x}_{c} -  M g r_{g} + \\frac{1}{2} M \\dot{x}_{c}^{2} + \\frac{3}{4} m_{W} \\dot{x}_{c}^{2}$"
   ]
  },
  {
   "cell_type": "code",
   "execution_count": 8,
   "metadata": {},
   "outputs": [],
   "source": [
    "L = KE - PE\n",
    "L = L.expand().simplify()"
   ]
  },
  {
   "cell_type": "markdown",
   "metadata": {},
   "source": [
    "The Lagrangian can then be implemented in the Euler-Langrange method to related which is \n",
    "\\begin{equation}\n",
    "\\frac{d}{dt} \\left( \\frac{\\partial L}{\\partial \\dot f_i} \\right) - \\frac{\\partial L}{\\partial f_i} = \\Xi_i\n",
    "\\end{equation}\n",
    "\n",
    "Where $f_i$ are the time-dependent functions of the Lagrangian (${x_c}(t)$ and $\\gamma(t)$) and $\\Xi_i$ are the generalized forces. For ${f_i} = {x_c}(t)$, ${\\Xi_i} = F(t) - \\frac{c{\\dot{x_c}}}{{r_g}^2}$ The partial derivaties of $L$ required for the Euler-Lagrange formula are\n",
    "\n",
    "\\begin{equation}\n",
    "\\frac{\\partial L}{\\partial \\dot {x_c}} = L_{p} M \\operatorname{cos}\\left(\\gamma\\right) \\dot{\\gamma} + 1.0 M \\dot{x}_{c} + 1.5 m_{W} \\dot{x}_{c}\n",
    "\\end{equation}\n",
    "\n",
    "\\begin{equation}\n",
    "\\frac{\\partial L}{\\partial {x_c}} = 0\n",
    "\\end{equation}"
   ]
  },
  {
   "cell_type": "markdown",
   "metadata": {},
   "source": [
    "Which can then be input into the full Euler-Lagrange equation for $x_c$ to give $EOM_1$\n",
    "\n",
    "\\begin{equation}\n",
    "{EOM_1} : - L_{p} M \\operatorname{sin}\\left(\\gamma\\right) \\dot{\\gamma}^{2} + L_{p} M \\operatorname{cos}\\left(\\gamma\\right) \\ddot{\\gamma} + M \\ddot{x}_{c} + \\frac{c \\dot{x}_{c}}{r_{g}^{2}} + 1.5 m_{W} \\ddot{x}_{c} - F =0\n",
    "\\end{equation}\n",
    "\n",
    "The second time dependent funtion of $L$ is $\\gamma(t)$ and for ${f_i} = \\gamma(t),\\ \\Xi_i = 0$. \n",
    "\n",
    "\n",
    "\\begin{equation}\n",
    "\\frac{\\partial L}{\\partial \\dot {\\gamma}} = {\\dot{x_c}}\\left( M{{L_p}cos(\\gamma)} \\right)+ \\dot\\gamma\\left( M{{L_p}^2} \\right)\n",
    "\\end{equation}\n",
    "\n",
    "\\begin{equation}\n",
    "\\frac{\\partial}{\\partial {t}}\\frac{\\partial L}{\\partial \\dot {\\gamma}} = L_{p} M \\left(L_{p} \\ddot{\\gamma} - \\operatorname{sin}\\left(\\gamma\\right) \\dot{\\gamma} \\dot{x}_{c} + \\operatorname{cos}\\left(\\gamma\\right) \\ddot{x}_{c}\\right)\n",
    "\\end{equation}\n",
    "\n",
    "This provides $EOM_2$\n",
    "\n",
    "\\begin{equation}\n",
    "{EOM_2} :L_{p}^{2} M \\ddot{\\gamma} - L_{p} M g \\operatorname{sin}\\left(\\gamma\\right) + L_{p} M \\operatorname{cos}\\left(\\gamma\\right) \\ddot{x}_{c} - c \\dot{\\gamma} = 0\n",
    "\\end{equation}\n"
   ]
  },
  {
   "cell_type": "code",
   "execution_count": 9,
   "metadata": {},
   "outputs": [],
   "source": [
    "# Store Derivatives as Variables\n",
    "ddalpha = Derivative((alpha(t)),t,t)\n",
    "dalpha = Derivative((alpha(t)),t)\n",
    "ddxc = Derivative(xc(t),t,t)\n",
    "dxc = Derivative(xc(t),t)\n",
    "dgamma = Derivative(gamma(t),t)"
   ]
  },
  {
   "cell_type": "code",
   "execution_count": 10,
   "metadata": {},
   "outputs": [],
   "source": [
    "# EOM for x_c\n",
    "dL_dxc = diff(L,dxc)\n",
    "EOM1 = diff(dL_dxc, t) - diff(L,xc(t)) - (F(t)-c*dxc/rg**2)"
   ]
  },
  {
   "cell_type": "code",
   "execution_count": 11,
   "metadata": {},
   "outputs": [],
   "source": [
    "# EOM for alpha\n",
    "dL_dgamma = diff(L,dgamma)\n",
    "EOM2 = diff(dL_dgamma, t) - diff(L,gamma(t))-c*dgamma"
   ]
  },
  {
   "cell_type": "markdown",
   "metadata": {},
   "source": [
    "## Results\n",
    "### Configuration 1\n",
    "#### Linearization \n",
    "The previous substitution of $\\gamma(t) = \\theta(t) + \\alpha(t)$ must be re-substituted before linearization.\n",
    "\n",
    "$EOM1 = C_{1} L_{p} M \\operatorname{cos}\\left(C_{1} \\alpha\\right) \\ddot{\\alpha} + \\frac{c \\dot{x}_{c}}{r_{g}^{2}} + \\left(1.0 M + 1.5 m_{W}\\right) \\ddot{x}_{c} - F$\n",
    "\n",
    "$EOM2 =C_{1} L_{p}^{2} M \\ddot{\\alpha} - 1.0 L_{p} M g \\operatorname{sin}\\left(C_{1} \\alpha\\right) + 1.0 L_{p} M \\operatorname{cos}\\left(C_{1} \\alpha\\right) \\ddot{x}_{c} - c \\left(C_{1} \\dot{\\alpha}\\right)$\n",
    "\n",
    "Where $C_1 = 1 + \\frac{{L_p}Mg}{2EI}$\n",
    "\n",
    "The equations of motion are linearized via the small angle theorem which states that $cos(\\phi) = 1$ and $sin(\\phi) = \\phi$. Apply this for both $\\theta$ and $\\alpha$ yields:\n",
    "\n",
    "$EOM1: C_{1} L_{p} M \\ddot{\\alpha} +  M \\ddot{x}_{c} + \\frac{c \\dot{x}_{c}}{r_{g}^{2}} + 1.5 m_{W} \\ddot{x}_{c} - F$\n",
    "\n",
    "$EOM2: C_{1} L_{p}^{2} M \\ddot{\\alpha} -  C_{1} L_{p} M g \\alpha -  C_{1} c \\dot{\\alpha} + L_{p} M \\ddot{x}_{c}$"
   ]
  },
  {
   "cell_type": "markdown",
   "metadata": {},
   "source": []
  },
  {
   "cell_type": "code",
   "execution_count": 12,
   "metadata": {},
   "outputs": [],
   "source": [
    "def sub_for_gamma(EOMs):\n",
    "    result = []\n",
    "    for EOM in EOMs:\n",
    "        EOM = EOM.subs(Derivative(gamma(t),t)**2,0)\n",
    "        EOM = EOM.subs(gamma(t), alpha(t)*C_1) #because sin(alphta(t)) = alpha(t)\n",
    "        EOM = EOM.subs(Derivative(alpha(t),t)**2,0)\n",
    "        EOM = EOM.subs(Derivative(alpha(t)*C_1,t,t),ddalpha*C_1)\n",
    "        EOM = collect(EOM,ddalpha)\n",
    "        EOM = collect(EOM,ddxc)\n",
    "        EOM = collect(EOM,dxc)\n",
    "        result.append(EOM)\n",
    "    return result"
   ]
  },
  {
   "cell_type": "code",
   "execution_count": 13,
   "metadata": {},
   "outputs": [],
   "source": [
    "EOM1_temp1, EOM2_temp1 = sub_for_gamma([EOM1,EOM2])"
   ]
  },
  {
   "cell_type": "code",
   "execution_count": 14,
   "metadata": {},
   "outputs": [],
   "source": [
    "def linearize_EOM_alpha_theta(EOMs):\n",
    "    result = []\n",
    "    for EOM in EOMs:\n",
    "        i = EOMs.index(EOM)\n",
    "        EOM = EOM.simplify()\n",
    "        EOM = EOM.subs([(sin(alpha(t)), alpha(t)),(cos(alpha(t)), 1)])\n",
    "        EOM = EOM.subs([(sin(alpha(t)*C_1), alpha(t)*C_1),(cos(alpha(t)*C_1), 1)])\n",
    "        EOM = EOM.subs(Derivative(C_1*alpha(t),t,t),C_1*ddalpha)\n",
    "        EOM = EOM.subs(Derivative(C_1*alpha(t), t),C_1*dalpha)\n",
    "        result.append(EOM)\n",
    "       #print('{}: {}'.format(i+1,vlatex(EOM))); print('***')\n",
    "    return result"
   ]
  },
  {
   "cell_type": "code",
   "execution_count": 15,
   "metadata": {},
   "outputs": [],
   "source": [
    "EOM1_temp2, EOM2_temp2 = linearize_EOM_alpha_theta([EOM1_temp1,EOM2_temp1])"
   ]
  },
  {
   "cell_type": "markdown",
   "metadata": {},
   "source": [
    "The linearized version of $EOM_1$ then becomes\n",
    "\n",
    "$\n",
    "EOM_1: C_{1} L_{p} M \\ddot{\\alpha}{\\left (t \\right )} + M \\ddot{x}_{c}{\\left (t \\right )} + \\frac{c \\dot{x}_{c}{\\left (t \\right )}}{r_{g}^{2}} + 1.5 m_{W} \\ddot{x}_{c}{\\left (t \\right )} - F{\\left (t \\right )} = 0\n",
    "$\n",
    "\n",
    "$F(t)$ is a function of $V_in$ and $EOM_1$ can be further expanded to \n",
    "\n",
    "$\n",
    "EOM_1:C_{1} L_{p} M \\ddot{\\alpha} - \\frac{K_{g} K_{t} Vin}{R r_{g}} + \\left( M + 1.5 m_{W}\\right) \\ddot{x}_{c} + \\left(\\frac{K_{g}^{3} K_{t}}{R r_{g}^{2}} + \\frac{c}{r_{g}^{2}}\\right) \\dot{x}_{c} =0\n",
    "$\n",
    "\n",
    "Linearizing $EOM2$ results in \n",
    "\n",
    "$\n",
    "EOM_2: C_{1} L_{p}^{2} M \\ddot{\\alpha} - C_{1} L_{p} M g \\alpha - C_{1} c \\dot{\\alpha} + L_{p} M \\ddot{x}_{c} =0\n",
    "$"
   ]
  },
  {
   "cell_type": "code",
   "execution_count": 16,
   "metadata": {},
   "outputs": [],
   "source": [
    "EOM1_temp3 = EOM1_temp2.subs(F(t), Kg*Kt/rg*(Vin(t)-Kg*Km/rg*dxc)/R)\n",
    "EOM1_temp3 = collect(collect(EOM1_temp3.expand(),dxc),ddalpha)\n",
    "EOM2_temp3 = EOM2_temp2"
   ]
  },
  {
   "cell_type": "markdown",
   "metadata": {},
   "source": [
    "#### State Space Representation\n",
    "The equations of motion can be combined and put into matrix form to create a state space representation of the system.\n",
    "\n",
    "$\\dot {\\textbf {q}(t)} ={\\textbf {A}}  {\\textbf {q}(t)}  +  {\\textbf {B}}  {\\textbf {u}(t)} $\n",
    "\n",
    "\n",
    "${\\textbf {y}(t)} ={\\textbf {C}}  {\\textbf {q}(t)}  +  {\\textbf {D}}  {\\textbf {u}(t)} $\n",
    "\n",
    "For this system, the state variables will be $ \n",
    "{\\textbf {q}} = \\begin{bmatrix}\n",
    "    q_1 \\\\\n",
    "    q_2 \\\\\n",
    "    q_3 \\\\\n",
    "    q_4 \n",
    "\\end{bmatrix} = \\begin{bmatrix}\n",
    "    x_c \\\\\n",
    "    \\dot {x_c} \\\\\n",
    "    \\alpha \\\\\n",
    "    \\dot \\alpha \n",
    "\\end{bmatrix}$ , \n",
    "giving a first time derivative matrix of $\\dot {\\textbf {q}} =\\begin{bmatrix}\n",
    "    \\dot q_1 \\\\\n",
    "    \\dot q_2 \\\\\n",
    "    \\dot q_3 \\\\\n",
    "    \\dot q_4 \n",
    "\\end{bmatrix}= \n",
    "\\begin{bmatrix}\n",
    "    \\dot x_c \\\\\n",
    "    \\ddot x_c \\\\\n",
    "    \\dot \\alpha \\\\\n",
    "    \\ddot \\alpha \n",
    "\\end{bmatrix}$. The $\\textbf A$ matrix is formed by the coefficients of the $EOM$ that correspond to the state variables. The input for either case is $V_{in}$, which forms $\\textbf u$. The value of $\\textbf D$ is 0 for all cases in the scope of this project. $\\textbf C$ will change to achieve the desired output $\\textbf y$. \n",
    "\n",
    "The representation of the equations of motion with state space variables are:\n",
    "\n",
    "$EOM1: C_{1} L_{p} M {\\dot q_4} - \\frac{K_{g} K_{t} \\operatorname{Vin}{\\left (t \\right )}}{R r_{g}} + {\\dot q_1} \\left(\\frac{K_{g}^{3} K_{t}}{R r_{g}^{2}} + \\frac{c}{r_{g}^{2}}\\right) + {\\dot q_2} \\left( M + 1.5 m_{W}\\right)$\n",
    "\n",
    "$EOM2: C_{1} L_{p}^{2} M {\\dot q_4} - 1C_{1} L_{p} M g q_{3} -  C_{1} c {\\dot q_3} +  L_{p} M {\\dot q_2}$"
   ]
  },
  {
   "cell_type": "code",
   "execution_count": 17,
   "metadata": {},
   "outputs": [],
   "source": [
    "q1, q2, q3, q4, q5, q6, C1, dq1, dq2, dq3, dq4, dq5, dq6 = symbols(\n",
    "    \"q_1 q_2 q_3 q_4 q_5 q_6 C1 {\\dot\\ q_1} {\\dot\\ q_2} {\\dot\\ q_3} {\\dot\\ q_4} {\\dot\\ q_5} {\\dot\\ q_6}\")"
   ]
  },
  {
   "cell_type": "code",
   "execution_count": 18,
   "metadata": {},
   "outputs": [],
   "source": [
    "def sub_state(EOMs):\n",
    "    result = []\n",
    "    for EOM in EOMs:\n",
    "        EOM = EOM.subs([\n",
    "            (ddalpha,dq4),\n",
    "            (dalpha,dq3),\n",
    "            (ddxc,dq2),\n",
    "            (dxc,dq1),\n",
    "            (alpha(t),q3),\n",
    "            (xc(t),q1)\n",
    "            ])\n",
    "        result.append(EOM)\n",
    "        #print(vlatex(EOM))\n",
    "        #print('***')\n",
    "    return result"
   ]
  },
  {
   "cell_type": "code",
   "execution_count": 19,
   "metadata": {},
   "outputs": [],
   "source": [
    "EOM1_temp4, EOM2_temp4 = sub_state([EOM1_temp3,EOM2_temp3])"
   ]
  },
  {
   "cell_type": "code",
   "execution_count": 20,
   "metadata": {},
   "outputs": [],
   "source": [
    "EOM = EOM1_temp4+EOM2_temp4"
   ]
  },
  {
   "cell_type": "markdown",
   "metadata": {},
   "source": [
    "##### Given Constants"
   ]
  },
  {
   "cell_type": "code",
   "execution_count": 21,
   "metadata": {},
   "outputs": [],
   "source": [
    "g_ = 9.807 #m/s^2\n",
    "Kg_ = 3.7 #ratio\n",
    "Kt_ = 0.00767 #Nm/Amp\n",
    "Km_ = 0.00767 #V.sec/rad\n",
    "E_ = 79*10**6 #Pa\n",
    "I_ = 1.6933*10**(-11) #M^4\n",
    "mW_ = 0.360 #Kg\n",
    "M_ = 0.5 #Kg\n",
    "Lp_ = 0.6413 #m\n",
    "rg_ = 0.1 #m\n",
    "c_ = 0.002 #Ns/m\n",
    "R_ = 2.6 #Ohm\n",
    "C1_ = 1 + Lp_**2*M_*g_/(2*E_*I_)"
   ]
  },
  {
   "cell_type": "code",
   "execution_count": 22,
   "metadata": {},
   "outputs": [],
   "source": [
    "def sub_values(EOMs):\n",
    "    result = []\n",
    "    for EOM in EOMs:\n",
    "        EOM = EOM.subs([\n",
    "            (g,g_),(M, M_),(Lp, Lp_),(c,c_),(Kg,Kg_),(Kt,Kt_),(Km,Km_),\n",
    "            (R,R_),(rg,rg_),(C_1,C1_),(mW,mW_),(E,E_),(I,I_)])\n",
    "        result.append(EOM)\n",
    "        #print(vlatex(EOM))\n",
    "        #print('***')\n",
    "    return result"
   ]
  },
  {
   "cell_type": "code",
   "execution_count": 23,
   "metadata": {},
   "outputs": [],
   "source": [
    "EOM1_temp5, EOM2_temp5 = sub_values([EOM1_temp4,EOM2_temp4])"
   ]
  },
  {
   "cell_type": "markdown",
   "metadata": {},
   "source": [
    "#### Combined Equations of Motion"
   ]
  },
  {
   "cell_type": "markdown",
   "metadata": {},
   "source": [
    "Combining the equations of motion into one system and substituting numerical values for the constants gives:\n",
    "\n",
    "$EOM = - 3699.2457 q_{3} + 15.1426 {\\dot q_1} + 1.3607 {\\dot q_2} - 2.3527 {\\dot q_3} + 619.1059 {\\dot q_4} - 0.10915 \\operatorname{Vin}{\\left (t \\right )}$"
   ]
  },
  {
   "cell_type": "code",
   "execution_count": 24,
   "metadata": {},
   "outputs": [
    {
     "data": {
      "text/latex": [
       "$$- 2373.45425950005 q_{3} + 0.2309756785 {\\dot q_1} + 1.36065 {\\dot q_2} - 1.50953588858771 {\\dot q_3} + 397.221421037772 {\\dot q_4} - 0.10915 \\operatorname{Vin}{\\left (t \\right )}$$"
      ],
      "text/plain": [
       "-2373.45425950005*q_3 + 0.2309756785*{\\dot q_1} + 1.36065*{\\dot q_2} - 1.50953588858771*{\\dot q_3} + 397.221421037772*{\\dot q_4} - 0.10915*Vin(t)"
      ]
     },
     "execution_count": 24,
     "metadata": {},
     "output_type": "execute_result"
    }
   ],
   "source": [
    "EOM_ = EOM1_temp5 + EOM2_temp5"
   ]
  },
  {
   "cell_type": "markdown",
   "metadata": {},
   "source": [
    "#### Setup Python for State Space Plotting\n",
    "\n",
    "Numpy is a package common used for mathematical calculations. This package is used in this project for both the value of $\\pi$ and for the `np.dataarray()` data structure. The signal package of `scipy` will be utilized to generate a steady state system and then compute the response for a time input. `pyplot` of `matplotlib.pyplot` will be implemented to plot the results created by `scipy`."
   ]
  },
  {
   "cell_type": "code",
   "execution_count": 25,
   "metadata": {},
   "outputs": [],
   "source": [
    "import numpy as np\n",
    "from scipy import signal\n",
    "pi = np.pi\n",
    "import matplotlib.pyplot as plt"
   ]
  },
  {
   "cell_type": "markdown",
   "metadata": {},
   "source": [
    "#### Build Expressions to Develop State-Space Matrices\n",
    "The method `col_expr()` is utilized to solve the equation of motion for each the ${\\dot q}$ matrix variables. The method also handles the substitution of of $q$ state variables for $\\dot q$ variables during the state space equation generation. When the $\\dot q$ variable equals the $q$ variable, the expression becomes just the one to one relationship between the two. In this way, each expression generated is either the direct relationship between \n",
    "$ \\dot {\\textbf q}$ and $ \\textbf {q} $  or ends up being the system of equation, less acceleration terms, solved for the the corresponding $ \\dot {\\textbf q}$ term.\n",
    "\n",
    "The version of this method includes output at each step to show how it is handling each situation."
   ]
  },
  {
   "cell_type": "code",
   "execution_count": 26,
   "metadata": {},
   "outputs": [],
   "source": [
    "def col_expr(EOM,dq_terms,q_conversion):\n",
    "    result = []\n",
    "    for term in dq_terms:  \n",
    "        temp_EOM = EOM\n",
    "        temp_dict = q_conversion\n",
    "        for key in temp_dict:\n",
    "            old = key\n",
    "            new = temp_dict[key]\n",
    "            if old != term:\n",
    "                temp_EOM = temp_EOM.subs(old, new)\n",
    "            elif old == term:\n",
    "                temp_EOM = old - new\n",
    "                break\n",
    "        try: \n",
    "            expr = solve(temp_EOM,term)[0]\n",
    "        except:      \n",
    "            expr = 0*q1\n",
    "        result.append(expr)\n",
    "    return result"
   ]
  },
  {
   "cell_type": "code",
   "execution_count": 27,
   "metadata": {},
   "outputs": [],
   "source": [
    "dq_terms = [dq1, dq2, dq3, dq4]\n",
    "q_conversion = {dq1: q2, dq3: q4}\n",
    "expr_1, expr_2, expr_3, expr_4 = col_expr(EOM_,dq_terms,q_conversion) "
   ]
  },
  {
   "cell_type": "markdown",
   "metadata": {},
   "source": [
    "Each matrix is captured as a `Matrix()` or  `np.array()`. $\\textbf A$ is built through a method that takes a a list of expressions to solve for a given list of terms. The result is a list of list, which is recognized by `numpy` as a matrix. "
   ]
  },
  {
   "cell_type": "code",
   "execution_count": 28,
   "metadata": {},
   "outputs": [],
   "source": [
    "def build_A(exprs,terms):\n",
    "    A = []\n",
    "    for expr in exprs:\n",
    "        row = []\n",
    "        for term in terms:\n",
    "            row.append(float(expr.coeff(term)))        \n",
    "        A.append(row)\n",
    "    return A\n",
    "exprs = [expr_1, expr_2, expr_3, expr_4]\n",
    "terms = [q1,q2,q3,q4]"
   ]
  },
  {
   "cell_type": "code",
   "execution_count": 29,
   "metadata": {},
   "outputs": [],
   "source": [
    "B11 = float(expr_1.coeff(Vin(t))); B21 = float(expr_2.coeff(Vin(t)))\n",
    "B31 = float(expr_3.coeff(Vin(t))); B41 = float(expr_4.coeff(Vin(t)))\n",
    "\n",
    "A1 = build_A(exprs,terms)\n",
    "B1 = np.array([[0],[B21],[0],[B41]])\n",
    "D = np.array([[0]])"
   ]
  },
  {
   "cell_type": "code",
   "execution_count": 30,
   "metadata": {},
   "outputs": [
    {
     "data": {
      "text/latex": [
       "$$\\left[\\begin{matrix}0.0 & 1.0 & 0.0 & 0.0\\\\0.0 & -0.169753925329806 & 1744.35325726678 & 1.10942262050322\\\\0.0 & 0.0 & 0.0 & 1.0\\\\0.0 & -0.000581478405410661 & 5.97514165600441 & 0.00380023787398961\\end{matrix}\\right]$$"
      ],
      "text/plain": [
       "[0.0           1.0                 0.0                 0.0        ]\n",
       "[                                                                 ]\n",
       "[0.0   -0.169753925329806    1744.35325726678   1.10942262050322  ]\n",
       "[                                                                 ]\n",
       "[0.0           0.0                 0.0                 1.0        ]\n",
       "[                                                                 ]\n",
       "[0.0  -0.000581478405410661  5.97514165600441  0.00380023787398961]"
      ]
     },
     "execution_count": 30,
     "metadata": {},
     "output_type": "execute_result"
    }
   ],
   "source": [
    "Matrix(A1)"
   ]
  },
  {
   "cell_type": "code",
   "execution_count": 31,
   "metadata": {},
   "outputs": [
    {
     "data": {
      "text/latex": [
       "$$\\left[\\begin{matrix}0.0\\\\0.0802190129717414\\\\0.0\\\\0.000274783771013248\\end{matrix}\\right]$$"
      ],
      "text/plain": [
       "[        0.0         ]\n",
       "[                    ]\n",
       "[ 0.0802190129717414 ]\n",
       "[                    ]\n",
       "[        0.0         ]\n",
       "[                    ]\n",
       "[0.000274783771013248]"
      ]
     },
     "execution_count": 31,
     "metadata": {},
     "output_type": "execute_result"
    }
   ],
   "source": [
    "Matrix(B1)"
   ]
  },
  {
   "cell_type": "markdown",
   "metadata": {},
   "source": [
    "##### Preventing the Response from Going Through the Ground\n",
    "The angle response is not bound by physical ground constraints in the existing equations of motion. A function `limit_range` is defined below to adjust the response if the response would otherwise be below the ground. This equation only applies in responses related to $\\alpha$ as $x_c$ is horizontal and does not cross the ground plane."
   ]
  },
  {
   "cell_type": "code",
   "execution_count": 32,
   "metadata": {},
   "outputs": [],
   "source": [
    "def limit_range(response):\n",
    "    for i in np.nditer(response, op_flags=['readwrite']):\n",
    "        if i > pi - acos(0.1/0.6413):\n",
    "            i[...] = pi-acos(0.1/0.6413)\n",
    "        else:\n",
    "            i[...] = -(pi-acos(0.1/0.6413))\n",
    "    return response"
   ]
  },
  {
   "cell_type": "markdown",
   "metadata": {},
   "source": [
    "#### Python Output - Configuration 1"
   ]
  },
  {
   "cell_type": "code",
   "execution_count": 33,
   "metadata": {},
   "outputs": [
    {
     "data": {
      "image/png": "[encoded data removed]",
      "text/plain": [
       "<Figure size 432x288 with 1 Axes>"
      ]
     },
     "metadata": {
      "needs_background": "light"
     },
     "output_type": "display_data"
    }
   ],
   "source": [
    "C1 = np.array([[1,0,0,0]])\n",
    "sys_x = signal.StateSpace(A1, B1, C1, D)\n",
    "time,response = signal.step(sys_x, T=np.linspace(0,5,10000))\n",
    "plt.plot(time,response)\n",
    "plt.title(\"$x_c (t)$ Response vs Time\"); plt.ylabel('Response'); plt.xlabel('Time')\n",
    "plt.show()"
   ]
  },
  {
   "cell_type": "code",
   "execution_count": 34,
   "metadata": {},
   "outputs": [
    {
     "data": {
      "image/png": "[encoded data removed]",
      "text/plain": [
       "<Figure size 432x288 with 1 Axes>"
      ]
     },
     "metadata": {
      "needs_background": "light"
     },
     "output_type": "display_data"
    }
   ],
   "source": [
    "C2 = np.array([[0,0,1,0]])\n",
    "sys_a = signal.StateSpace(A1, B1, C2, D)\n",
    "time,response = signal.step(sys_a,T=np.linspace(0,50,100))\n",
    "#print(response)\n",
    "response = limit_range(response)\n",
    "plt.plot(time,response)\n",
    "plt.title(r\"$\\alpha (t)$ Response vs Time\"); plt.ylabel('Response'); plt.xlabel('Time')\n",
    "plt.show()"
   ]
  },
  {
   "cell_type": "markdown",
   "metadata": {},
   "source": [
    "#### Discussion of Results for Configuration #1\n",
    "The response for $\\alpha$ appears to be within a reasonable range, but the same cannot be said for $x_c$. The response indicates that the system would respond to 5 seconds of input by moving 800m. In comparison to the given solution, it appears that something occurred during linearization or substitution that has caused the result to be off. Unfortunately, despite many hours of effort, this particular issue was not resolved. It was considered to simply use the the given code to generate a report, but alas the author chose to stand by the author-generated code in an attempt to eventually fully grasp the concept. \n",
    "\n",
    "As will be demonstrated in Configuration #2, the problem of incorrect state space matrices will persists."
   ]
  },
  {
   "cell_type": "markdown",
   "metadata": {},
   "source": [
    "Given Solution for $\\textbf A$: \n",
    "\n",
    "$$\\left\\lbrack \\begin{array}{c}{\\dot{x} }_c \\\\{\\ddot{x} }_c \\\\\\alpha^? \n",
    "\\\\\\alpha^� \\end{array}\\right\\rbrack =\\left(\\begin{array}{cccc}0 & 1 & 0 & 0\\\\0 \n",
    " & -\\frac{c}{M_w  {r_g }^2 }-\\frac{K_g  K_m  K_t }{M_w  R r_g } & -\\frac{{L_p \n",
    " }^2  M^2  g}{2 G J M_w } & 0\\\\0 & 0 & 0 & 1\\\\0 & \\frac{2 G J c}{{L_p }^3  M \n",
    " M_w  g {r_g }^2 }+\\frac{2 G J K_g  K_m  K_t }{{L_p }^3  M M_w  R g r_g } & \\frac{1}{L_p  \n",
    " M M_w } & 0\\end{array}\\right)\\left\\lbrack \\begin{array}{c}x_c \\\\{\\dot{x} }_c \n",
    " \\\\\\alpha \\\\\\alpha^? \\end{array}\\right\\rbrack +\\left(\\begin{array}{c}0\\\\2/3*K_g*K_t/\\left(r_{g\\;} \n",
    " R\\;M_w \\right)\\\\0\\\\-\\frac{2 G J K_g  K_t }{{L_p }^3  M M_w  R g r_g }\\end{array}\\right)V_{\\textrm{in}}$$\n",
    " \n",
    " It can be seen here that the provided solution has that a coefficient for $\\alpha$ is only present in $\\textbf A$ for $\\dot q_3 = q_4$. That is markedly different from the $\\textbf A$ generated by the methodology presented herein."
   ]
  },
  {
   "cell_type": "markdown",
   "metadata": {},
   "source": [
    "### Configuration #2"
   ]
  },
  {
   "cell_type": "markdown",
   "metadata": {},
   "source": [
    "#### Poistions in 3D"
   ]
  },
  {
   "cell_type": "code",
   "execution_count": 35,
   "metadata": {},
   "outputs": [],
   "source": [
    "x_A = xc(t)+d*sin(psi(t))+Lp*cos(psi(t))*sin(gammaA(t))\n",
    "y_A = xc(t)-d*cos(psi(t))+Lp*sin(psi(t))*sin(gammaA(t))\n",
    "z_A = rg + Lp*cos(gammaA(t))\n",
    "\n",
    "x_B = xc(t)-d*sin(psi(t))+Lp*cos(psi(t))*sin(gammaB(t))\n",
    "y_B = xc(t)+d*cos(psi(t))+Lp*sin(psi(t))*sin(gammaB(t))\n",
    "z_B = rg + Lp*cos(gammaB(t))"
   ]
  },
  {
   "cell_type": "markdown",
   "metadata": {},
   "source": [
    "#### Velocities"
   ]
  },
  {
   "cell_type": "code",
   "execution_count": 36,
   "metadata": {},
   "outputs": [],
   "source": [
    "V_mA = sqrt(diff(x_A,t)**2+diff(y_A,t)**2+diff(z_A,t)**2)\n",
    "V_mB = sqrt(diff(x_B,t)**2+diff(y_B,t)**2+diff(z_B,t)**2)"
   ]
  },
  {
   "cell_type": "code",
   "execution_count": 37,
   "metadata": {},
   "outputs": [],
   "source": [
    "V_wA = sqrt((diff(yc(t),t)+2*d*cos(psi(t))*diff(psi(t),t))**2+(diff(xc(t),t)+2*d*sin(psi(t))*diff(psi(t),t))**2)\n",
    "V_wB = sqrt((diff(yc(t),t)-2*d*cos(psi(t))*diff(psi(t),t))**2+(diff(xc(t),t)-2*d*sin(psi(t))*diff(psi(t),t))**2)"
   ]
  },
  {
   "cell_type": "markdown",
   "metadata": {},
   "source": [
    "#### Kinetic Energy"
   ]
  },
  {
   "cell_type": "code",
   "execution_count": 38,
   "metadata": {},
   "outputs": [],
   "source": [
    "KE_M = 1/2*(V_mA**2*mA+V_mB**2*mB)\n",
    "#KE_M"
   ]
  },
  {
   "cell_type": "code",
   "execution_count": 39,
   "metadata": {},
   "outputs": [],
   "source": [
    "KE_W = mW*(V_wA**2+V_wB**2)/2+mW*rg**2*((V_wA**2+V_wB**2)/rg**2)/4"
   ]
  },
  {
   "cell_type": "code",
   "execution_count": 40,
   "metadata": {},
   "outputs": [],
   "source": [
    "KE_2 = KE_W + KE_M"
   ]
  },
  {
   "cell_type": "markdown",
   "metadata": {},
   "source": [
    "#### Potential Energy"
   ]
  },
  {
   "cell_type": "code",
   "execution_count": 41,
   "metadata": {},
   "outputs": [],
   "source": [
    "PE_2 = M*g*(rg*Lp*cos(gammaA(t)))+M*g*(rg*Lp*cos(gammaB(t)))"
   ]
  },
  {
   "cell_type": "markdown",
   "metadata": {},
   "source": [
    "#### Lagrange Equation"
   ]
  },
  {
   "cell_type": "code",
   "execution_count": 42,
   "metadata": {},
   "outputs": [],
   "source": [
    "L_2 = KE_2 - PE_2"
   ]
  },
  {
   "cell_type": "code",
   "execution_count": 43,
   "metadata": {},
   "outputs": [],
   "source": [
    "dalphaA = Derivative(alphaA(t),t)\n",
    "ddalphaA = Derivative(alphaA(t),t,t)\n",
    "dalphaB = Derivative(alphaB(t),t)\n",
    "ddalphaB = Derivative(alphaB(t),t,t)\n",
    "\n",
    "dgammaA = Derivative(gammaA(t),t)\n",
    "ddgammaA = Derivative(gammaA(t),t,t)\n",
    "dgammaB = Derivative(gammaB(t),t)\n",
    "ddgammaaB = Derivative(gammaB(t),t,t)"
   ]
  },
  {
   "cell_type": "code",
   "execution_count": 44,
   "metadata": {},
   "outputs": [],
   "source": [
    "L_2 = L_2.subs([(dalphaA**2,0),(dalphaB**2,0),(dgammaA**2,0),(dgammaB**2,0)])"
   ]
  },
  {
   "cell_type": "code",
   "execution_count": 45,
   "metadata": {},
   "outputs": [],
   "source": [
    "# EOM for x_c\n",
    "dL_x2 = diff(L_2,dxc)\n",
    "EOM_x2 = diff(dL_x2, t) - diff(L_2,xc(t)) - (F(t)-c*dxc/rg**2)\n",
    "\n",
    "# EOM for gamma A\n",
    "dL_gA = diff(L_2,dgammaA)\n",
    "EOM_gA2 = diff(dL_gA, t) - diff(L_2,gammaA(t))\n",
    "\n",
    "# EOM for gamma B\n",
    "dL_gB = diff(L_2,dgammaB)\n",
    "EOM_gB2 = diff(dL_gB, t) - diff(L_2,gammaA(t))"
   ]
  },
  {
   "cell_type": "markdown",
   "metadata": {},
   "source": [
    "#### Linearize EOM"
   ]
  },
  {
   "cell_type": "code",
   "execution_count": 46,
   "metadata": {},
   "outputs": [],
   "source": [
    "def sub_for_gamma_2(EOMs):\n",
    "    result = []\n",
    "    for EOM in EOMs:\n",
    "        EOM = EOM.subs(gammaA(t), alphaA(t) + Lp**2*M*g*sin(alphaA(t)/(2*E*I)))\n",
    "        EOM = EOM.subs(gammaB(t), alphaB(t) + Lp**2*M*g*sin(alphaB(t)/(2*E*I)))\n",
    "        result.append(EOM)\n",
    "    return result"
   ]
  },
  {
   "cell_type": "code",
   "execution_count": 47,
   "metadata": {},
   "outputs": [],
   "source": [
    "EOM_x2_temp1, EOM_gA2_temp1, EOM_gB2_temp1 = sub_for_gamma_2([EOM_x2, EOM_gA2, EOM_gB2])"
   ]
  },
  {
   "cell_type": "code",
   "execution_count": 48,
   "metadata": {},
   "outputs": [],
   "source": [
    "def linearize_EOM_2(EOMs):\n",
    "    result = []\n",
    "    for EOM in EOMs:\n",
    "        i = EOMs.index(EOM)\n",
    "        EOM = expand_trig(EOM)\n",
    "        EOM = EOM.subs([(sin(alphaA(t)), alphaA(t)),(cos(alphaA(t)), 1)])\n",
    "        EOM = EOM.subs([(sin(alphaB(t)), alphaB(t)),(cos(alphaB(t)), 1)])\n",
    "        EOM = EOM.subs([(sin(thetaA(t)), thetaA(t)),(cos(thetaA(t)), 1)])\n",
    "        EOM = EOM.subs([(sin(thetaB(t)), thetaB(t)),(cos(thetaB(t)), 1)])\n",
    "        \n",
    "        EOM = EOM.subs([(sin(alphaA(t)/(2*E*I)),alphaA(t)/(2*E*I))])\n",
    "        EOM = EOM.subs([(cos(alphaA(t)/(2*E*I)), 1)])\n",
    "        \n",
    "        EOM = EOM.subs([(sin(Lp**2*M*g*alphaA(t)/(2*E*I)),Lp**2*M*g*alphaA(t)/(2*E*I))])\n",
    "        EOM = EOM.subs([(cos(Lp**2*M*g*alphaA(t)/(2*E*I)), 1)])\n",
    "        \n",
    "        EOM = EOM.subs(Derivative(alphaA(t)+Lp**2*M*g*alphaA(t)/(2*E*I),t,t),Derivative(alphaA(t),t,t)*(1+Lp**2*M*g/(2*E*I)))\n",
    "        EOM = EOM.subs(Derivative(alphaA(t)+Lp**2*M*g*alphaA(t)/(2*E*I),t),Derivative(alphaA(t),t)*(1+Lp**2*M*g/(2*E*I)))\n",
    "       \n",
    "        EOM = EOM.subs([(sin(alphaB(t)/(2*E*I)),alphaB(t)/(2*E*I))])\n",
    "        \n",
    "        EOM = EOM.subs([(cos(alphaB(t)/(2*E*I)), 1)])\n",
    "        EOM = EOM.subs([(sin(Lp**2*M*g*alphaB(t)/(2*E*I)),Lp**2*M*g*alphaB(t)/(2*E*I))])\n",
    "        EOM = EOM.subs([(cos(Lp**2*M*g*alphaB(t)/(2*E*I)), 1)])\n",
    "        \n",
    "        EOM = EOM.subs(Derivative(alphaB(t)+Lp**2*M*g*alphaB(t)/(2*E*I),t,t),Derivative(alphaB(t),t,t)*(1+Lp**2*M*g/(2*E*I)))\n",
    "        EOM = EOM.subs(Derivative(alphaB(t)+Lp**2*M*g*alphaB(t)/(2*E*I),t),Derivative(alphaB(t),t)*(1+Lp**2*M*g/(2*E*I)))\n",
    "        EOM = EOM.subs(Derivative(alphaA(t))**2,0)\n",
    "        EOM = EOM.subs(Derivative(alphaB(t))**2,0)\n",
    "        EOM = EOM.subs(alphaA(t)+Lp**2*(M*g*alphaA(t)/(2*E*I)),alphaA(t)*(1+Lp**2*(M*g)/(2*E*I)))\n",
    "        EOM = EOM.subs(alphaB(t)+Lp**2*(M*g*alphaB(t)/(2*E*I)),alphaB(t)*(1+Lp**2*(M*g)/(2*E*I)))\n",
    "        #EOM = EOM.subs(Derivative(psi(t))**2,0)\n",
    "        result.append(EOM)\n",
    "        #print('{}: {}'.format(i+1,vlatex(EOM))); print('***')\n",
    "    return result"
   ]
  },
  {
   "cell_type": "code",
   "execution_count": 49,
   "metadata": {},
   "outputs": [],
   "source": [
    "EOM_x2_temp3, EOM_gA2_temp3, EOM_gB2_temp3 = linearize_EOM_2([EOM_x2_temp1, EOM_gA2_temp1, EOM_gB2_temp1])"
   ]
  },
  {
   "cell_type": "markdown",
   "metadata": {},
   "source": [
    "#### State Space Representation\n",
    "$\\dot {\\textbf {q}(t)} ={\\textbf {A}}  {\\textbf {q}(t)}  +  {\\textbf {B}}  {\\textbf {u}(t)} $\n",
    "\n",
    "\n",
    "${\\textbf {y}(t)} ={\\textbf {C}}  {\\textbf {q}(t)}  +  {\\textbf {D}}  {\\textbf {u}(t)} $\n",
    "\n",
    "For this system, the state variables will be $ \n",
    "{\\textbf {q}} = \\begin{bmatrix}\n",
    "    q_1 \\\\\n",
    "    q_2 \\\\\n",
    "    q_3 \\\\\n",
    "    q_4 \\\\\n",
    "    q_5 \\\\\n",
    "    q_6\n",
    "\\end{bmatrix} = \\begin{bmatrix}\n",
    "    x_c \\\\\n",
    "    \\dot {x_c} \\\\\n",
    "    \\alpha \\\\\n",
    "    \\dot \\alpha \\\\\n",
    "    \\psi \\\\\n",
    "    \\dot \\psi \\\\\n",
    "\\end{bmatrix}$ , \n",
    "giving a first time derivative matrix of $\\dot {\\textbf {q}} =\\begin{bmatrix}\n",
    "    \\dot q_1 \\\\\n",
    "    \\dot q_2 \\\\\n",
    "    \\dot q_3 \\\\\n",
    "    \\dot q_4 \\\\\n",
    "    \\dot q_5 \\\\\n",
    "    \\dot q_6 \\\\\n",
    "\\end{bmatrix}= \n",
    "\\begin{bmatrix}\n",
    "    \\dot x_c \\\\\n",
    "    \\ddot x_c \\\\\n",
    "    \\dot \\alpha \\\\\n",
    "    \\ddot \\alpha \\\\\n",
    "    \\dot \\psi \\\\\n",
    "    \\ddot \\psi\n",
    "\\end{bmatrix}$."
   ]
  },
  {
   "cell_type": "code",
   "execution_count": 50,
   "metadata": {},
   "outputs": [],
   "source": [
    "def sub_state_2(EOMs):\n",
    "    result = []\n",
    "    for EOM in EOMs:\n",
    "        EOM = EOM.subs([\n",
    "            (alphaA(t),alpha(t)),\n",
    "            (alphaB(t),alpha(t)),\n",
    "            (Derivative(psi(t),t,t),dq6),\n",
    "            (Derivative(psi(t),t),dq5),\n",
    "            (Derivative(alpha(t),t,t),dq4),\n",
    "            (Derivative(alpha(t),t),dq3),\n",
    "            (Derivative(xc(t),t,t),dq2),\n",
    "            (Derivative(xc(t),t),dq1),\n",
    "            (psi(t),q5),\n",
    "            (alpha(t),q3),\n",
    "            (xc(t),q1)\n",
    "            ])\n",
    "        result.append(EOM)\n",
    "       # print(vlatex(EOM))\n",
    "       # print('***')\n",
    "    return result"
   ]
  },
  {
   "cell_type": "code",
   "execution_count": 51,
   "metadata": {},
   "outputs": [],
   "source": [
    "def sub_values_2(EOMs):\n",
    "    result = []\n",
    "    for EOM in EOMs:\n",
    "        EOM = EOM.subs(\n",
    "            [(M, M_),(Lp, Lp_),(c,c_),(Kg,Kg_),(Kt,Kt_),(Km,Km_),(R,R_),(rg,rg_),(C1,C1_),\n",
    "             (mW,mW_),(d,5),(g,g_),(E,E_),(I,I_)])\n",
    "        result.append(EOM)\n",
    "       # print(vlatex(EOM))\n",
    "       # print('***')\n",
    "    return result"
   ]
  },
  {
   "cell_type": "code",
   "execution_count": 52,
   "metadata": {},
   "outputs": [],
   "source": [
    "EOM_x2_temp4, EOM_gA2_temp4, EOM_gB2_temp4 = sub_state_2([EOM_x2_temp3, EOM_gA2_temp3, EOM_gB2_temp3])"
   ]
  },
  {
   "cell_type": "code",
   "execution_count": 53,
   "metadata": {},
   "outputs": [],
   "source": [
    "EOM_x2_, EOM_gA2_, EOM_gB2_ = sub_values_2([EOM_x2_temp4, EOM_gA2_temp4, EOM_gB2_temp4])\n",
    "EOM_2_ = EOM_x2_ + EOM_gA2_ + EOM_gB2_"
   ]
  },
  {
   "cell_type": "code",
   "execution_count": 54,
   "metadata": {},
   "outputs": [],
   "source": [
    "def col_expr_2(EOM,dq_terms,q_conversion):\n",
    "    result = []\n",
    "    dup_term = 0\n",
    "    #print('[START TERMS]'); print('[START KEYS]')\n",
    "    for term in dq_terms:  \n",
    "        temp_EOM = EOM\n",
    "        temp_dict = q_conversion\n",
    "        #print('Term: {}'.format(term))       \n",
    "        for key in temp_dict:\n",
    "            #print('     Key: {}'.format(key))\n",
    "            old = key\n",
    "            new = temp_dict[key]\n",
    "            #print('         OLD: {}, KEY: {}'.format(old,key))\n",
    "            if old != term:\n",
    "                temp_EOM = temp_EOM.subs(old, new)\n",
    "                #print('     {}: Success! Key \"{}\" subbed for value \"{}\"'.format(term,new,old))\n",
    "            elif old == term:\n",
    "                temp_EOM = old - new\n",
    "                #print('     UPDATE: EOM = {}'.format(temp_EOM))\n",
    "                break\n",
    "            #print(temp_EOM)\n",
    "        #print('[END OF KEYS]')\n",
    "        #print(' ')\n",
    "        \n",
    "        try: \n",
    "            expr = solve(temp_EOM,term)[0]\n",
    "        except:      \n",
    "            expr = 0*q1\n",
    "        result.append(expr)\n",
    "    #print('[END OF TERMS]')\n",
    "    return result"
   ]
  },
  {
   "cell_type": "code",
   "execution_count": 55,
   "metadata": {},
   "outputs": [],
   "source": [
    "dq_terms_2 = [dq1, dq2, dq3, dq4, dq5, dq6]\n",
    "q_conversion_2 = {dq1: q2, dq3: q4, dq5: q6}"
   ]
  },
  {
   "cell_type": "code",
   "execution_count": 56,
   "metadata": {},
   "outputs": [],
   "source": [
    "solved_expr = col_expr_2(EOM_2_,dq_terms_2,q_conversion_2)"
   ]
  },
  {
   "cell_type": "code",
   "execution_count": 57,
   "metadata": {},
   "outputs": [],
   "source": [
    "expr_1, expr_2, expr_3, expr_4, expr_5, expr_6  = solved_expr"
   ]
  },
  {
   "cell_type": "code",
   "execution_count": 58,
   "metadata": {},
   "outputs": [],
   "source": [
    "exprs = [expr_1, expr_2, expr_3, expr_4, expr_5, expr_6]\n",
    "qs = [q1,q2,q3,q4,q5,q6]"
   ]
  },
  {
   "cell_type": "code",
   "execution_count": 59,
   "metadata": {},
   "outputs": [
    {
     "data": {
      "text/latex": [
       "$$\\left[\\begin{matrix}0.0 & 1.0 & 0.0 & 0.0 & 0.0 & 0.0\\\\0.0 & 0.0 & 0.0 & 0.0 & 0.0 & 0.0\\\\0.0 & 0.0 & 0.0 & 1.0 & 0.0 & 0.0\\\\0.0 & 0.0 & 0.0 & 0.0 & 0.0 & 0.0\\\\0.0 & 0.0 & 0.0 & 0.0 & 0.0 & 1.0\\\\0.0 & 0.0 & 0.0 & 0.0 & 0.0 & 0.0\\end{matrix}\\right]$$"
      ],
      "text/plain": [
       "[0.0  1.0  0.0  0.0  0.0  0.0]\n",
       "[                            ]\n",
       "[0.0  0.0  0.0  0.0  0.0  0.0]\n",
       "[                            ]\n",
       "[0.0  0.0  0.0  1.0  0.0  0.0]\n",
       "[                            ]\n",
       "[0.0  0.0  0.0  0.0  0.0  0.0]\n",
       "[                            ]\n",
       "[0.0  0.0  0.0  0.0  0.0  1.0]\n",
       "[                            ]\n",
       "[0.0  0.0  0.0  0.0  0.0  0.0]"
      ]
     },
     "execution_count": 59,
     "metadata": {},
     "output_type": "execute_result"
    }
   ],
   "source": [
    "Matrix(build_A(exprs,qs))"
   ]
  },
  {
   "cell_type": "markdown",
   "metadata": {},
   "source": [
    "The generation of expression in terms of the state variables fails because the solution for a given $\\dot q$ variable fails because the equation of motion is non-linear."
   ]
  },
  {
   "cell_type": "code",
   "execution_count": 60,
   "metadata": {},
   "outputs": [],
   "source": [
    "B11 = float(expr_1.subs([(q1,0),(q2,0),(q3,0),(q4,0),(q5,0),(q6,0)]).coeff(Vin(t))); \n",
    "B21 = float(expr_2.coeff(Vin(t))); B31 = float(expr_3.coeff(Vin(t)))\n",
    "B41 = float(expr_4.coeff(Vin(t))); B51 = float(expr_5.coeff(Vin(t))); B61 = float(expr_6.coeff(Vin(t)))"
   ]
  },
  {
   "cell_type": "code",
   "execution_count": 61,
   "metadata": {},
   "outputs": [],
   "source": [
    "A2 = build_A(exprs,qs)\n",
    "B2 = np.array([[B11],[B21],[B31],[B41],[B51],[B61]])\n",
    " # will be changed to solve for eithter x or alpha\n",
    "D = np.array([[0]])"
   ]
  },
  {
   "cell_type": "code",
   "execution_count": 62,
   "metadata": {},
   "outputs": [
    {
     "data": {
      "text/latex": [
       "$$\\left[\\begin{matrix}0.0 & 1.0 & 0.0 & 0.0 & 0.0 & 0.0\\\\0.0 & 0.0 & 0.0 & 0.0 & 0.0 & 0.0\\\\0.0 & 0.0 & 0.0 & 1.0 & 0.0 & 0.0\\\\0.0 & 0.0 & 0.0 & 0.0 & 0.0 & 0.0\\\\0.0 & 0.0 & 0.0 & 0.0 & 0.0 & 1.0\\\\0.0 & 0.0 & 0.0 & 0.0 & 0.0 & 0.0\\end{matrix}\\right]$$"
      ],
      "text/plain": [
       "[0.0  1.0  0.0  0.0  0.0  0.0]\n",
       "[                            ]\n",
       "[0.0  0.0  0.0  0.0  0.0  0.0]\n",
       "[                            ]\n",
       "[0.0  0.0  0.0  1.0  0.0  0.0]\n",
       "[                            ]\n",
       "[0.0  0.0  0.0  0.0  0.0  0.0]\n",
       "[                            ]\n",
       "[0.0  0.0  0.0  0.0  0.0  1.0]\n",
       "[                            ]\n",
       "[0.0  0.0  0.0  0.0  0.0  0.0]"
      ]
     },
     "execution_count": 62,
     "metadata": {},
     "output_type": "execute_result"
    }
   ],
   "source": [
    "Matrix(A2)"
   ]
  },
  {
   "cell_type": "markdown",
   "metadata": {},
   "source": [
    "#### Python Output - Configuration 2"
   ]
  },
  {
   "cell_type": "code",
   "execution_count": 63,
   "metadata": {},
   "outputs": [
    {
     "data": {
      "image/png": "[encoded data removed]",
      "text/plain": [
       "<Figure size 432x288 with 1 Axes>"
      ]
     },
     "metadata": {
      "needs_background": "light"
     },
     "output_type": "display_data"
    }
   ],
   "source": [
    "C2_x = np.array([[1,0,0,0,0,0]])\n",
    "sys_x2 = signal.StateSpace(A2, B2, C2_x, D)\n",
    "time,response = signal.step(sys_x, T=np.linspace(0,100,10000))\n",
    "result = plt.plot(time,response)\n",
    "plt.title(\"$X_c$ Response vs Time\"); plt.ylabel('Response'); plt.xlabel('Time')\n",
    "plt.show()"
   ]
  },
  {
   "cell_type": "code",
   "execution_count": 64,
   "metadata": {},
   "outputs": [
    {
     "data": {
      "image/png": "[encoded data removed]",
      "text/plain": [
       "<Figure size 432x288 with 1 Axes>"
      ]
     },
     "metadata": {
      "needs_background": "light"
     },
     "output_type": "display_data"
    }
   ],
   "source": [
    "C2_a = np.array([[0,0,1,0,0,0]])\n",
    "sys_a = signal.StateSpace(A2, B2, C2_a, D)\n",
    "time,response = signal.step(sys_a, T=np.linspace(0,100,10000))\n",
    "response = limit_range(response)\n",
    "plt.plot(time,response)\n",
    "plt.title(r\"$\\alpha (t)$ Response vs Time\"); plt.ylabel('Response'); plt.xlabel('Time')\n",
    "plt.show()"
   ]
  },
  {
   "cell_type": "markdown",
   "metadata": {},
   "source": [
    "#### Discussion of Output for Configuration #2\n",
    "The output of the state space system appears to be representative of an unstable system. The Lagrangian and equations of motion are two lengthy and complex to fully diagnose by observation. "
   ]
  },
  {
   "cell_type": "code",
   "execution_count": 65,
   "metadata": {},
   "outputs": [],
   "source": [
    "def col_expr_appendix(EOM,dq_terms,q_conversion):\n",
    "    result = []\n",
    "    dup_term = 0\n",
    "    #print('[START TERMS]'); print('[START KEYS]')\n",
    "    for term in dq_terms:  \n",
    "        temp_EOM = EOM\n",
    "        temp_dict = q_conversion\n",
    "        #print('Term: {}'.format(term))       \n",
    "        for key in temp_dict:\n",
    "           # print('     Key: {}'.format(key))\n",
    "            old = key\n",
    "            new = temp_dict[key]\n",
    "            #print('         OLD: {}, KEY: {}'.format(old,key))\n",
    "            if old != term:\n",
    "                temp_EOM = temp_EOM.subs(old, new)\n",
    "                #print('     {}: Success! Key \"{}\" subbed for value \"{}\"'.format(term,new,old))\n",
    "            elif old == term:\n",
    "                temp_EOM = old - new\n",
    "                #print('     UPDATE: EOM = {}'.format(temp_EOM))\n",
    "                break\n",
    "            print(temp_EOM)\n",
    "        #print('[END OF KEYS]')\n",
    "        #print(' ')\n",
    "        try: \n",
    "            expr = solve(temp_EOM,term)[0]\n",
    "        except:      \n",
    "            expr = 0*q1\n",
    "        result.append(expr)\n",
    "    #print('[END OF TERMS]')\n",
    "    return result"
   ]
  }
 ],
 "metadata": {
  "kernelspec": {
   "display_name": "Python 3",
   "language": "python",
   "name": "python3"
  },
  "language_info": {
   "codemirror_mode": {
    "name": "ipython",
    "version": 3
   },
   "file_extension": ".py",
   "mimetype": "text/x-python",
   "name": "python",
   "nbconvert_exporter": "python",
   "pygments_lexer": "ipython3",
   "version": "3.7.1"
  },
  "latex_envs": {
   "LaTeX_envs_menu_present": true,
   "autoclose": false,
   "autocomplete": true,
   "bibliofile": "biblio.bib",
   "cite_by": "apalike",
   "current_citInitial": 1,
   "eqLabelWithNumbers": true,
   "eqNumInitial": 1,
   "hotkeys": {
    "equation": "Ctrl-E",
    "itemize": "Ctrl-I"
   },
   "labels_anchors": false,
   "latex_user_defs": false,
   "report_style_numbering": false,
   "user_envs_cfg": false
  },
  "toc": {
   "base_numbering": "1.",
   "nav_menu": {},
   "number_sections": true,
   "sideBar": false,
   "skip_h1_title": false,
   "title_cell": "Table of Contents",
   "title_sidebar": "Contents",
   "toc_cell": true,
   "toc_position": {
    "height": "47.702205657958984px",
    "left": "1461.6175537109375px",
    "top": "870.4779052734375px",
    "width": "266.6176452636719px"
   },
   "toc_section_display": true,
   "toc_window_display": true
  }
 },
 "nbformat": 4,
 "nbformat_minor": 2
}
